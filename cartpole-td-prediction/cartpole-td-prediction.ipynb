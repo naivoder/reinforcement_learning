{
 "cells": [
  {
   "cell_type": "code",
   "execution_count": 1,
   "metadata": {},
   "outputs": [],
   "source": [
    "import gymnasium as gym\n",
    "import numpy as np"
   ]
  },
  {
   "cell_type": "code",
   "execution_count": 2,
   "metadata": {},
   "outputs": [],
   "source": [
    "class Agent:\n",
    "    def __init__(self, gamma=0.99, alpha=0.1):\n",
    "        self.bins = np.linspace(-0.2095, 0.2095, 10)\n",
    "        self.action_space = [0, 1]\n",
    "        self.V = {}\n",
    "        self.gamma = gamma\n",
    "        self.alpha = alpha\n",
    "\n",
    "        self.init_V()\n",
    "\n",
    "    def init_V(self):\n",
    "        for angle in range(len(self.bins) + 1):\n",
    "            self.V[angle] = 0\n",
    "\n",
    "    def policy(self, state):\n",
    "        return self.action_space[0] if state[2] < 0 else self.action_space[1]\n",
    "\n",
    "    def update_V(self, state, reward, next_state):\n",
    "        angle = np.digitize(state[2], self.bins)\n",
    "        next_angle = np.digitize(next_state[2], self.bins)\n",
    "        # print(angle, next_angle)\n",
    "\n",
    "        self.V[angle] = self.V[angle] + self.alpha * (\n",
    "            reward + self.gamma * self.V[next_angle] - self.V[angle]\n",
    "        )"
   ]
  },
  {
   "cell_type": "code",
   "execution_count": 3,
   "metadata": {},
   "outputs": [],
   "source": [
    "def main():\n",
    "    env = gym.make(\"CartPole-v1\")\n",
    "\n",
    "    agent = Agent()\n",
    "    n_episodes = 50000\n",
    "\n",
    "    for episode in range(n_episodes):\n",
    "        print(\"Executing episode:\", episode + 1, end=\"\\r\")\n",
    "        state, _ = env.reset()\n",
    "\n",
    "        terminated, truncated = False, False\n",
    "        while not terminated and not truncated:\n",
    "            action = agent.policy(state)\n",
    "            state_, reward, terminated, truncated, _ = env.step(action)\n",
    "            agent.update_V(state, reward, state_)\n",
    "            state = state_\n",
    "\n",
    "    print(\"Training Complete!\\t\\t\")\n",
    "    print(\"V:\", list(agent.V.values()))"
   ]
  },
  {
   "cell_type": "code",
   "execution_count": 4,
   "metadata": {},
   "outputs": [
    {
     "name": "stdout",
     "output_type": "stream",
     "text": [
      "Training Complete!\t\t0000\n",
      "V: [0, 13.384196739302425, 22.102694224564456, 27.431829990418912, 30.925713615650473, 31.24005492133547, 28.34487423377081, 22.485453372676435, 11.623406512098327, 3.5035531245753764, 0]\n"
     ]
    }
   ],
   "source": [
    "main()"
   ]
  }
 ],
 "metadata": {
  "kernelspec": {
   "display_name": "torch",
   "language": "python",
   "name": "python3"
  },
  "language_info": {
   "codemirror_mode": {
    "name": "ipython",
    "version": 3
   },
   "file_extension": ".py",
   "mimetype": "text/x-python",
   "name": "python",
   "nbconvert_exporter": "python",
   "pygments_lexer": "ipython3",
   "version": "3.10.11"
  }
 },
 "nbformat": 4,
 "nbformat_minor": 2
}
